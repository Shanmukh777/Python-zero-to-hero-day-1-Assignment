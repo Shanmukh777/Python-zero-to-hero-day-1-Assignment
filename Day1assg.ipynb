{
  "nbformat": 4,
  "nbformat_minor": 0,
  "metadata": {
    "colab": {
      "name": "Untitled0.ipynb",
      "provenance": [],
      "collapsed_sections": [],
      "authorship_tag": "ABX9TyNHsiLlsZe2efAF//M+B7tx",
      "include_colab_link": true
    },
    "kernelspec": {
      "name": "python3",
      "display_name": "Python 3"
    },
    "language_info": {
      "name": "python"
    }
  },
  "cells": [
    {
      "cell_type": "markdown",
      "metadata": {
        "id": "view-in-github",
        "colab_type": "text"
      },
      "source": [
        "<a href=\"https://colab.research.google.com/github/Shanmukh777/Python-zero-to-hero-day-1-Assignment/blob/main/Day1assg.ipynb\" target=\"_parent\"><img src=\"https://colab.research.google.com/assets/colab-badge.svg\" alt=\"Open In Colab\"/></a>"
      ]
    },
    {
      "cell_type": "code",
      "metadata": {
        "colab": {
          "base_uri": "https://localhost:8080/"
        },
        "id": "t-W3btCTBSzt",
        "outputId": "6b8d1069-7e86-42bc-c08c-597184b4cbb9"
      },
      "source": [
        "# Assignment - Take two inputs and store in variable x and y, find x to the power y.\n",
        "x = int(input('enter a value of x: '))\n",
        "y = int(input('enter a value of y: '))\n",
        "print ('x to the power of y is', pow(x,y))\n"
      ],
      "execution_count": 1,
      "outputs": [
        {
          "output_type": "stream",
          "text": [
            "enter a value of x: 5\n",
            "enter a value of y: 4\n",
            "x to the power of y is 625\n"
          ],
          "name": "stdout"
        }
      ]
    },
    {
      "cell_type": "code",
      "metadata": {
        "id": "xfxFP3z8FJuI"
      },
      "source": [
        ""
      ],
      "execution_count": null,
      "outputs": []
    }
  ]
}