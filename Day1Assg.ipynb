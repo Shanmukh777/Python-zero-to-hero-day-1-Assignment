{
  "nbformat": 4,
  "nbformat_minor": 0,
  "metadata": {
    "colab": {
      "name": "Day1Assg.ipynb",
      "provenance": [],
      "collapsed_sections": []
    },
    "kernelspec": {
      "name": "python3",
      "display_name": "Python 3"
    },
    "language_info": {
      "name": "python"
    }
  },
  "cells": [
    {
      "cell_type": "code",
      "metadata": {
        "colab": {
          "base_uri": "https://localhost:8080/"
        },
        "id": "X8f8hpQAGdk2",
        "outputId": "8232f328-8805-4ce8-901d-30782681707a"
      },
      "source": [
        "x = int(input('enter a value of x: '))\n",
        "y = int(input('enter a value of y: '))\n",
        "print ('x to the power of y is', pow(x,y))\n"
      ],
      "execution_count": 1,
      "outputs": [
        {
          "output_type": "stream",
          "text": [
            "enter a value of x: 5\n",
            "enter a value of y: 4\n",
            "x to the power of y is 625\n"
          ],
          "name": "stdout"
        }
      ]
    }
  ]
}